{
  "cells": [
    {
      "cell_type": "markdown",
      "metadata": {
        "id": "GB-CEPKKlmEq"
      },
      "source": [
        "# Working with JAX numpy and calculating perplexity: Ungraded Lecture Notebook"
      ]
    },
    {
      "cell_type": "markdown",
      "metadata": {
        "id": "5itKFPUOlmEs"
      },
      "source": [
        "Normally you would import `numpy` and rename it as `np`. \n",
        "\n",
        "However in this week's assignment you will notice that this convention has been changed. \n",
        "\n",
        "Now standard `numpy` is not renamed and `trax.fastmath.numpy` is renamed as `np`. \n",
        "\n",
        "The rationale behind this change is that you will be using Trax's numpy (which is compatible with JAX) far more often. Trax's numpy supports most of the same functions as the regular numpy so the change won't be noticeable in most cases.\n"
      ]
    },
    {
      "cell_type": "code",
      "execution_count": 1,
      "metadata": {
        "id": "MKSXC0HJlmEt"
      },
      "outputs": [],
      "source": [
        "import numpy\n",
        "import trax\n",
        "import trax.fastmath.numpy as np\n",
        "\n",
        "# Setting random seeds\n",
        "#trax.supervised.trainer_lib.init_random_number_generators(32)\n",
        "#numpy.random.seed(32)"
      ]
    },
    {
      "cell_type": "markdown",
      "metadata": {
        "id": "hSXzXeezlmEu"
      },
      "source": [
        "One important change to take into consideration is that the types of the resulting objects will be different depending on the version of numpy. With regular numpy you get `numpy.ndarray` but with Trax's numpy you will get `jax.interpreters.xla.DeviceArray`. These two types map to each other. So if you find some error logs mentioning DeviceArray type, don't worry about it, treat it like you would treat an ndarray and march ahead.\n",
        "\n",
        "You can get a randomized numpy array by using the `numpy.random.random()` function.\n",
        "\n",
        "This is one of the functionalities that Trax's numpy does not currently support in the same way as the regular numpy. "
      ]
    },
    {
      "cell_type": "code",
      "execution_count": 2,
      "metadata": {
        "colab": {
          "base_uri": "https://localhost:8080/"
        },
        "id": "v5yn3kVtlmEu",
        "outputId": "49557631-1fc3-4d82-d881-0e7c922f04ab"
      },
      "outputs": [
        {
          "output_type": "stream",
          "name": "stdout",
          "text": [
            "The regular numpy array looks like this:\n",
            "\n",
            " [[0.04229105 0.13586058 0.16381811 0.23887593 0.41040444 0.7662479\n",
            "  0.87287529 0.70262132 0.9789071  0.04253077]\n",
            " [0.55768561 0.25351949 0.27440165 0.275814   0.11518218 0.60836791\n",
            "  0.12373777 0.54703321 0.71285707 0.69608032]\n",
            " [0.39191751 0.46418982 0.67776243 0.72613199 0.22470878 0.81808221\n",
            "  0.18533658 0.29214021 0.63909686 0.86558103]\n",
            " [0.48532099 0.26404246 0.72027207 0.86349596 0.99163483 0.53373393\n",
            "  0.65026334 0.27018673 0.19871026 0.97552894]\n",
            " [0.98933422 0.10723701 0.65779091 0.54233896 0.27790851 0.57889225\n",
            "  0.49683439 0.77260192 0.57329468 0.02919788]]\n",
            "\n",
            "It is of type: <class 'numpy.ndarray'>\n"
          ]
        }
      ],
      "source": [
        "numpy_array = numpy.random.random((5,10))\n",
        "print(f\"The regular numpy array looks like this:\\n\\n {numpy_array}\\n\")\n",
        "print(f\"It is of type: {type(numpy_array)}\")"
      ]
    },
    {
      "cell_type": "markdown",
      "metadata": {
        "id": "GbU9wE4-lmEu"
      },
      "source": [
        "You can easily cast regular numpy arrays or lists into trax numpy arrays using the `trax.fastmath.numpy.array()` function:"
      ]
    },
    {
      "cell_type": "code",
      "execution_count": 3,
      "metadata": {
        "colab": {
          "base_uri": "https://localhost:8080/"
        },
        "id": "e64I6FDJlmEv",
        "outputId": "928f88af-3d67-4315-a940-7fc64898b569"
      },
      "outputs": [
        {
          "output_type": "stream",
          "name": "stderr",
          "text": [
            "WARNING:absl:No GPU/TPU found, falling back to CPU. (Set TF_CPP_MIN_LOG_LEVEL=0 and rerun for more info.)\n"
          ]
        },
        {
          "output_type": "stream",
          "name": "stdout",
          "text": [
            "The trax numpy array looks like this:\n",
            "\n",
            " [[0.04229105 0.13586058 0.1638181  0.23887593 0.41040444 0.7662479\n",
            "  0.8728753  0.70262134 0.9789071  0.04253077]\n",
            " [0.5576856  0.2535195  0.27440163 0.275814   0.11518218 0.6083679\n",
            "  0.12373777 0.5470332  0.71285707 0.6960803 ]\n",
            " [0.3919175  0.46418983 0.67776245 0.726132   0.22470878 0.8180822\n",
            "  0.18533657 0.29214022 0.63909686 0.86558104]\n",
            " [0.485321   0.26404247 0.72027206 0.86349595 0.99163485 0.5337339\n",
            "  0.6502633  0.27018672 0.19871026 0.97552896]\n",
            " [0.9893342  0.10723701 0.6577909  0.54233897 0.2779085  0.57889223\n",
            "  0.4968344  0.7726019  0.5732947  0.02919788]]\n",
            "\n",
            "It is of type: <class 'jaxlib.xla_extension.DeviceArray'>\n"
          ]
        }
      ],
      "source": [
        "trax_numpy_array = np.array(numpy_array)\n",
        "print(f\"The trax numpy array looks like this:\\n\\n {trax_numpy_array}\\n\")\n",
        "print(f\"It is of type: {type(trax_numpy_array)}\")\n",
        "\n"
      ]
    },
    {
      "cell_type": "markdown",
      "metadata": {
        "id": "DPrDcGTalmEv"
      },
      "source": [
        "Hope you now understand the differences (and similarities) between these two versions and numpy. **Great!**\n",
        "\n",
        "The previous section was a quick look at Trax's numpy. However this notebook also aims to teach you how you can calculate the perplexity of a trained model.\n"
      ]
    },
    {
      "cell_type": "markdown",
      "metadata": {
        "id": "svqGVYvklmEw"
      },
      "source": [
        "## Calculating Perplexity"
      ]
    },
    {
      "cell_type": "markdown",
      "metadata": {
        "id": "ThhAxSBElmEw"
      },
      "source": [
        "The perplexity is a metric that measures how well a probability model predicts a sample and it is commonly used to evaluate language models. It is defined as: \n",
        "\n",
        "$$P(W) = \\sqrt[N]{\\prod_{i=1}^{N} \\frac{1}{P(w_i| w_1,...,w_{n-1})}}$$\n",
        "\n",
        "As an implementation hack, you would usually take the log of that formula (to enable us to use the log probabilities we get as output of our `RNN`, convert exponents to products, and products into sums which makes computations less complicated and computationally more efficient). You should also take care of the padding, since you do not want to include the padding when calculating the perplexity (because we do not want to have a perplexity measure artificially good). The algebra behind this process is explained next:\n",
        "\n",
        "\n",
        "$$log P(W) = {log\\big(\\sqrt[N]{\\prod_{i=1}^{N} \\frac{1}{P(w_i| w_1,...,w_{n-1})}}\\big)}$$\n",
        "\n",
        "$$ = {log\\big({\\prod_{i=1}^{N} \\frac{1}{P(w_i| w_1,...,w_{n-1})}}\\big)^{\\frac{1}{N}}}$$ \n",
        "\n",
        "$$ = {log\\big({\\prod_{i=1}^{N}{P(w_i| w_1,...,w_{n-1})}}\\big)^{-\\frac{1}{N}}} $$\n",
        "$$ = -\\frac{1}{N}{log\\big({\\prod_{i=1}^{N}{P(w_i| w_1,...,w_{n-1})}}\\big)} $$\n",
        "$$ = -\\frac{1}{N}{\\big({\\sum_{i=1}^{N}{logP(w_i| w_1,...,w_{n-1})}}\\big)} $$"
      ]
    },
    {
      "cell_type": "markdown",
      "metadata": {
        "id": "hnVR51lmlmEx"
      },
      "source": [
        "You will be working with a real example from this week's assignment. The example is made up of:\n",
        "   - `predictions` : batch of tensors corresponding to lines of text predicted by the model.\n",
        "   - `targets` : batch of actual tensors corresponding to lines of text."
      ]
    },
    {
      "cell_type": "code",
      "execution_count": 4,
      "metadata": {
        "colab": {
          "base_uri": "https://localhost:8080/"
        },
        "id": "lf4Xy6CvlmEx",
        "outputId": "4eea3b54-6678-48ba-c42c-41469ee9279b"
      },
      "outputs": [
        {
          "output_type": "stream",
          "name": "stdout",
          "text": [
            "predictions has shape: (32, 64, 256)\n",
            "targets has shape: (32, 64)\n"
          ]
        }
      ],
      "source": [
        "from trax import layers as tl\n",
        "\n",
        "# Load from .npy files\n",
        "predictions = numpy.load('predictions.npy')\n",
        "targets = numpy.load('targets.npy')\n",
        "\n",
        "# Cast to jax.interpreters.xla.DeviceArray\n",
        "predictions = np.array(predictions)\n",
        "targets = np.array(targets)\n",
        "\n",
        "# Print shapes\n",
        "print(f'predictions has shape: {predictions.shape}')\n",
        "print(f'targets has shape: {targets.shape}')"
      ]
    },
    {
      "cell_type": "markdown",
      "metadata": {
        "id": "61NWzveulmEx"
      },
      "source": [
        "Notice that the predictions have an extra dimension with the same length as the size of the vocabulary used.\n",
        "\n",
        "Because of this you will need a way of reshaping `targets` to match this shape. For this you can use `trax.layers.one_hot()`.\n",
        "\n",
        "Notice that `predictions.shape[-1]` will return the size of the last dimension of `predictions`."
      ]
    },
    {
      "cell_type": "code",
      "execution_count": 5,
      "metadata": {
        "colab": {
          "base_uri": "https://localhost:8080/"
        },
        "id": "IEpVXNHxlmEx",
        "outputId": "6749c676-59c0-4dd3-d219-1f9e1746c23c"
      },
      "outputs": [
        {
          "output_type": "stream",
          "name": "stdout",
          "text": [
            "reshaped_targets has shape: (32, 64, 256)\n"
          ]
        }
      ],
      "source": [
        "reshaped_targets = tl.one_hot(targets, predictions.shape[-1]) #trax's one_hot function takes the input as one_hot(x, n_categories, dtype=optional)\n",
        "print(f'reshaped_targets has shape: {reshaped_targets.shape}')"
      ]
    },
    {
      "cell_type": "markdown",
      "metadata": {
        "id": "uvUikaKtlmEy"
      },
      "source": [
        "By calculating the product of the predictions and the reshaped targets and summing across the last dimension, the total log perplexity can be computed:"
      ]
    },
    {
      "cell_type": "code",
      "execution_count": 6,
      "metadata": {
        "id": "Eap3mz0dlmEy"
      },
      "outputs": [],
      "source": [
        "total_log_ppx = np.sum(predictions * reshaped_targets, axis= -1)"
      ]
    },
    {
      "cell_type": "markdown",
      "metadata": {
        "id": "ynJ25iwnlmEy"
      },
      "source": [
        "Now you will need to account for the padding so this metric is not artificially deflated (since a lower perplexity means a better model). For identifying which elements are padding and which are not, you can use `np.equal()` and get a tensor with `1s` in the positions of actual values and `0s` where there are paddings."
      ]
    },
    {
      "cell_type": "code",
      "execution_count": 7,
      "metadata": {
        "colab": {
          "base_uri": "https://localhost:8080/"
        },
        "id": "PzLpEnqplmEy",
        "outputId": "30ccfca3-7c24-42a3-bf47-c667b5b115ba"
      },
      "outputs": [
        {
          "output_type": "stream",
          "name": "stdout",
          "text": [
            "non_pad has shape: (32, 64)\n",
            "\n",
            "non_pad looks like this: \n",
            "\n",
            " [[1. 1. 1. ... 0. 0. 0.]\n",
            " [1. 1. 1. ... 0. 0. 0.]\n",
            " [1. 1. 1. ... 0. 0. 0.]\n",
            " ...\n",
            " [1. 1. 1. ... 0. 0. 0.]\n",
            " [1. 1. 1. ... 0. 0. 0.]\n",
            " [1. 1. 1. ... 0. 0. 0.]]\n"
          ]
        }
      ],
      "source": [
        "non_pad = 1.0 - np.equal(targets, 0)\n",
        "print(f'non_pad has shape: {non_pad.shape}\\n')\n",
        "print(f'non_pad looks like this: \\n\\n {non_pad}')"
      ]
    },
    {
      "cell_type": "markdown",
      "metadata": {
        "id": "s6mle3UrlmEy"
      },
      "source": [
        "By computing the product of the total log perplexity and the non_pad tensor we remove the effect of padding on the metric:"
      ]
    },
    {
      "cell_type": "code",
      "execution_count": 8,
      "metadata": {
        "colab": {
          "base_uri": "https://localhost:8080/"
        },
        "id": "v3rlJjlHlmEy",
        "outputId": "9cab3c1d-3e29-47dc-c396-c3ca1f994de8"
      },
      "outputs": [
        {
          "output_type": "stream",
          "name": "stdout",
          "text": [
            "real perplexity still has shape: (32, 64)\n"
          ]
        }
      ],
      "source": [
        "real_log_ppx = total_log_ppx * non_pad\n",
        "print(f'real perplexity still has shape: {real_log_ppx.shape}')"
      ]
    },
    {
      "cell_type": "markdown",
      "metadata": {
        "id": "lxUXS4hilmEz"
      },
      "source": [
        "You can check the effect of filtering out the padding by looking at the two log perplexity tensors:"
      ]
    },
    {
      "cell_type": "code",
      "execution_count": 9,
      "metadata": {
        "colab": {
          "base_uri": "https://localhost:8080/"
        },
        "id": "jzxaIHmSlmEz",
        "outputId": "be0fe146-5f69-480d-8b04-045d1a56b52e"
      },
      "outputs": [
        {
          "output_type": "stream",
          "name": "stdout",
          "text": [
            "log perplexity tensor before filtering padding: \n",
            "\n",
            " [[ -5.396545    -1.0311184   -0.66916656 ... -22.37673    -23.18771\n",
            "  -21.843483  ]\n",
            " [ -4.5857706   -1.1341286   -8.538033   ... -20.15686    -26.837097\n",
            "  -23.57502   ]\n",
            " [ -5.2223887   -1.2824144   -0.17312431 ... -21.328228   -19.854412\n",
            "  -33.88444   ]\n",
            " ...\n",
            " [ -5.396545   -17.291681    -4.360766   ... -20.825802   -21.065838\n",
            "  -22.443115  ]\n",
            " [ -5.9313164  -14.247417    -0.2637329  ... -26.743248   -18.38433\n",
            "  -22.355278  ]\n",
            " [ -5.670536    -0.10595131   0.         ... -23.332523   -28.087376\n",
            "  -23.878807  ]]\n",
            "\n",
            "log perplexity tensor after filtering padding: \n",
            "\n",
            " [[ -5.396545    -1.0311184   -0.66916656 ...  -0.          -0.\n",
            "   -0.        ]\n",
            " [ -4.5857706   -1.1341286   -8.538033   ...  -0.          -0.\n",
            "   -0.        ]\n",
            " [ -5.2223887   -1.2824144   -0.17312431 ...  -0.          -0.\n",
            "   -0.        ]\n",
            " ...\n",
            " [ -5.396545   -17.291681    -4.360766   ...  -0.          -0.\n",
            "   -0.        ]\n",
            " [ -5.9313164  -14.247417    -0.2637329  ...  -0.          -0.\n",
            "   -0.        ]\n",
            " [ -5.670536    -0.10595131   0.         ...  -0.          -0.\n",
            "   -0.        ]]\n"
          ]
        }
      ],
      "source": [
        "print(f'log perplexity tensor before filtering padding: \\n\\n {total_log_ppx}\\n')\n",
        "print(f'log perplexity tensor after filtering padding: \\n\\n {real_log_ppx}')"
      ]
    },
    {
      "cell_type": "markdown",
      "metadata": {
        "id": "mps2VbSnlmEz"
      },
      "source": [
        "To get a single average log perplexity across all the elements in the batch you can sum across both dimensions and divide by the number of elements. Notice that the result will be the negative of the real log perplexity of the model:"
      ]
    },
    {
      "cell_type": "code",
      "execution_count": 10,
      "metadata": {
        "colab": {
          "base_uri": "https://localhost:8080/"
        },
        "id": "LWFvbBxqlmEz",
        "outputId": "185c2959-fca9-4a9c-9758-c8c253e1714a"
      },
      "outputs": [
        {
          "output_type": "stream",
          "name": "stdout",
          "text": [
            "The log perplexity and perplexity of the model are respectively: 2.3281209468841553 and 10.258646965026855\n"
          ]
        }
      ],
      "source": [
        "log_ppx = np.sum(real_log_ppx) / np.sum(non_pad)\n",
        "log_ppx = -log_ppx\n",
        "print(f'The log perplexity and perplexity of the model are respectively: {log_ppx} and {np.exp(log_ppx)}')"
      ]
    },
    {
      "cell_type": "markdown",
      "metadata": {
        "id": "7rLPGS4plmEz"
      },
      "source": [
        "**Congratulations on finishing this lecture notebook!** Now you should have a clear understanding of how to work with Trax's numpy and how to compute the perplexity to evaluate your language models. **Keep it up!**"
      ]
    }
  ],
  "metadata": {
    "kernelspec": {
      "display_name": "Python 3",
      "language": "python",
      "name": "python3"
    },
    "language_info": {
      "codemirror_mode": {
        "name": "ipython",
        "version": 3
      },
      "file_extension": ".py",
      "mimetype": "text/x-python",
      "name": "python",
      "nbconvert_exporter": "python",
      "pygments_lexer": "ipython3",
      "version": "3.7.1"
    },
    "colab": {
      "name": "C3_W2_lecture_notebook_perplexity.ipynb",
      "provenance": [],
      "collapsed_sections": []
    }
  },
  "nbformat": 4,
  "nbformat_minor": 0
}